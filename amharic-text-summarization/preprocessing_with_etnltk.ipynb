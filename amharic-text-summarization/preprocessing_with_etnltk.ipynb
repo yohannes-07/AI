{
 "cells": [
  {
   "cell_type": "code",
   "execution_count": 1,
   "id": "5ff74ecf-b1cc-4ab5-96f6-30b37cd6c7ac",
   "metadata": {},
   "outputs": [
    {
     "name": "stdout",
     "output_type": "stream",
     "text": [
      "Defaulting to user installation because normal site-packages is not writeable\n",
      "Collecting etnltk\n",
      "  Downloading etnltk-0.0.22-py3-none-any.whl (20 kB)\n",
      "Collecting textsearch>=0.0.21\n",
      "  Downloading textsearch-0.0.24-py2.py3-none-any.whl (7.6 kB)\n",
      "Collecting emoji>=1.7.0\n",
      "  Downloading emoji-2.9.0-py2.py3-none-any.whl (397 kB)\n",
      "\u001b[2K     \u001b[38;2;114;156;31m━━━━━━━━━━━━━━━━━━━━━━━━━━━━━━━━━━━━━\u001b[0m \u001b[32m397.5/397.5 KB\u001b[0m \u001b[31m560.1 kB/s\u001b[0m eta \u001b[36m0:00:00\u001b[0m kB/s\u001b[0m eta \u001b[36m0:00:01\u001b[0m:01\u001b[0m\n",
      "\u001b[?25hCollecting pyahocorasick\n",
      "  Downloading pyahocorasick-2.0.0-cp310-cp310-manylinux_2_5_x86_64.manylinux1_x86_64.manylinux_2_12_x86_64.manylinux2010_x86_64.whl (110 kB)\n",
      "\u001b[2K     \u001b[38;2;114;156;31m━━━━━━━━━━━━━━━━━━━━━━━━━━━━━━━━━━━━━━━\u001b[0m \u001b[32m110.8/110.8 KB\u001b[0m \u001b[31m1.9 MB/s\u001b[0m eta \u001b[36m0:00:00\u001b[0m MB/s\u001b[0m eta \u001b[36m0:00:01\u001b[0m\n",
      "\u001b[?25hCollecting anyascii\n",
      "  Downloading anyascii-0.3.2-py3-none-any.whl (289 kB)\n",
      "\u001b[2K     \u001b[38;2;114;156;31m━━━━━━━━━━━━━━━━━━━━━━━━━━━━━━━━━━━━━━━\u001b[0m \u001b[32m289.9/289.9 KB\u001b[0m \u001b[31m1.3 MB/s\u001b[0m eta \u001b[36m0:00:00\u001b[0mm eta \u001b[36m0:00:01\u001b[0m0:01\u001b[0m\n",
      "\u001b[?25hInstalling collected packages: pyahocorasick, emoji, anyascii, textsearch, etnltk\n",
      "Successfully installed anyascii-0.3.2 emoji-2.9.0 etnltk-0.0.22 pyahocorasick-2.0.0 textsearch-0.0.24\n"
     ]
    }
   ],
   "source": [
    "!pip install etnltk"
   ]
  },
  {
   "cell_type": "code",
   "execution_count": 27,
   "id": "c74bd775-1c8d-46be-ad38-7eea973c07e8",
   "metadata": {},
   "outputs": [],
   "source": [
    "import pandas as pd\n",
    "import numpy as np\n",
    "import re"
   ]
  },
  {
   "cell_type": "code",
   "execution_count": 3,
   "id": "901261b6-3294-4409-a6b6-ab4ce36fee35",
   "metadata": {},
   "outputs": [],
   "source": [
    "df1 = pd.read_csv(\"./scraped_sites/news_site_1.csv\") \n",
    "df2 = pd.read_csv(\"./scraped_sites/news_site_2.csv\") \n",
    "df3 = pd.read_csv(\"./scraped_sites/news_site_3.csv\") \n",
    "df4 = pd.read_csv(\"./scraped_sites/news_site_4.csv\") \n",
    "df5 = pd.read_csv(\"./scraped_sites/news_site_5.csv\") \n",
    "df6 = pd.read_csv(\"./scraped_sites/news_site_6.csv\") \n",
    "df7 = pd.read_csv(\"./scraped_sites/news_site_7.csv\") \n",
    "\n",
    "frames = [df1, df2, df3 , df4 , df5 , df6 ,df7]\n",
    "data = pd.concat(frames)"
   ]
  },
  {
   "cell_type": "code",
   "execution_count": 5,
   "id": "ea1bc0d9-9ea0-48ae-b1bd-15c43193d083",
   "metadata": {},
   "outputs": [
    {
     "data": {
      "text/html": [
       "<div>\n",
       "<style scoped>\n",
       "    .dataframe tbody tr th:only-of-type {\n",
       "        vertical-align: middle;\n",
       "    }\n",
       "\n",
       "    .dataframe tbody tr th {\n",
       "        vertical-align: top;\n",
       "    }\n",
       "\n",
       "    .dataframe thead th {\n",
       "        text-align: right;\n",
       "    }\n",
       "</style>\n",
       "<table border=\"1\" class=\"dataframe\">\n",
       "  <thead>\n",
       "    <tr style=\"text-align: right;\">\n",
       "      <th></th>\n",
       "      <th>title</th>\n",
       "      <th>content</th>\n",
       "      <th>link</th>\n",
       "      <th>id</th>\n",
       "    </tr>\n",
       "  </thead>\n",
       "  <tbody>\n",
       "    <tr>\n",
       "      <th>0</th>\n",
       "      <td>የአማራ ብሔራዊ ክልል መንግሥት መግለጫ</td>\n",
       "      <td>\\n151\\n\\n\\nየሀገራችን ሕዝቦች በአብሮነትና በአንድነት በህብረ ብሄራ...</td>\n",
       "      <td>https://www.ethiopianregistrar.com/amharic/pag...</td>\n",
       "      <td>1</td>\n",
       "    </tr>\n",
       "    <tr>\n",
       "      <th>1</th>\n",
       "      <td>title</td>\n",
       "      <td>content</td>\n",
       "      <td>link</td>\n",
       "      <td>id</td>\n",
       "    </tr>\n",
       "    <tr>\n",
       "      <th>2</th>\n",
       "      <td>አዴፓዎች ለዶ/ር አብይ ግልጽ ቅድመ ሁኔታዎች ማስቀመጥ አለባቸው – ግርማ ካሳ</td>\n",
       "      <td>\\n301\\n\\n\\nበታገቱ ተማሪዎችና በሌሎች የአገር ደህንነትና መከላከያ ...</td>\n",
       "      <td>https://www.ethiopianregistrar.com/amharic/pag...</td>\n",
       "      <td>1</td>\n",
       "    </tr>\n",
       "    <tr>\n",
       "      <th>3</th>\n",
       "      <td>በተማሪዎች ላይ የተፈጸመውን የእገታ ድርጊት የሚያወግዙ ሰላማዊ ሰልፎች በ...</td>\n",
       "      <td>\\n331\\n\\n\\nባሕር ዳር- ሰላማዊ ሰልፎቹ በደምቢ ዶሎ ዩኒቨርሲቲ ሲማ...</td>\n",
       "      <td>https://www.ethiopianregistrar.com/amharic/pag...</td>\n",
       "      <td>1</td>\n",
       "    </tr>\n",
       "    <tr>\n",
       "      <th>4</th>\n",
       "      <td>በአቶ ገዱ አንዳርጋቸው የተመራ የልኡካን ቡድን ወደ አሜሪካ ተጓዘ</td>\n",
       "      <td>\\n271\\n\\n\\nበኢፌዲሪ የውጭ ጉዳይ ሚኒስትር አቶ ገዱ አንዳርጋቸው የ...</td>\n",
       "      <td>https://www.ethiopianregistrar.com/amharic/pag...</td>\n",
       "      <td>1</td>\n",
       "    </tr>\n",
       "  </tbody>\n",
       "</table>\n",
       "</div>"
      ],
      "text/plain": [
       "                                               title  \\\n",
       "0                           የአማራ ብሔራዊ ክልል መንግሥት መግለጫ   \n",
       "1                                              title   \n",
       "2  አዴፓዎች ለዶ/ር አብይ ግልጽ ቅድመ ሁኔታዎች ማስቀመጥ አለባቸው – ግርማ ካሳ   \n",
       "3  በተማሪዎች ላይ የተፈጸመውን የእገታ ድርጊት የሚያወግዙ ሰላማዊ ሰልፎች በ...   \n",
       "4          በአቶ ገዱ አንዳርጋቸው የተመራ የልኡካን ቡድን ወደ አሜሪካ ተጓዘ   \n",
       "\n",
       "                                             content  \\\n",
       "0  \\n151\\n\\n\\nየሀገራችን ሕዝቦች በአብሮነትና በአንድነት በህብረ ብሄራ...   \n",
       "1                                            content   \n",
       "2  \\n301\\n\\n\\nበታገቱ ተማሪዎችና በሌሎች የአገር ደህንነትና መከላከያ ...   \n",
       "3  \\n331\\n\\n\\nባሕር ዳር- ሰላማዊ ሰልፎቹ በደምቢ ዶሎ ዩኒቨርሲቲ ሲማ...   \n",
       "4  \\n271\\n\\n\\nበኢፌዲሪ የውጭ ጉዳይ ሚኒስትር አቶ ገዱ አንዳርጋቸው የ...   \n",
       "\n",
       "                                                link  id  \n",
       "0  https://www.ethiopianregistrar.com/amharic/pag...   1  \n",
       "1                                               link  id  \n",
       "2  https://www.ethiopianregistrar.com/amharic/pag...   1  \n",
       "3  https://www.ethiopianregistrar.com/amharic/pag...   1  \n",
       "4  https://www.ethiopianregistrar.com/amharic/pag...   1  "
      ]
     },
     "execution_count": 5,
     "metadata": {},
     "output_type": "execute_result"
    }
   ],
   "source": [
    "data.head(5)"
   ]
  },
  {
   "cell_type": "code",
   "execution_count": 6,
   "id": "22ae3e26-62e2-4e60-ad81-03f9f7e3cf46",
   "metadata": {},
   "outputs": [
    {
     "name": "stdout",
     "output_type": "stream",
     "text": [
      "<class 'pandas.core.frame.DataFrame'>\n",
      "Index: 74776 entries, 0 to 11815\n",
      "Data columns (total 4 columns):\n",
      " #   Column   Non-Null Count  Dtype \n",
      "---  ------   --------------  ----- \n",
      " 0   title    74764 non-null  object\n",
      " 1   content  74532 non-null  object\n",
      " 2   link     74776 non-null  object\n",
      " 3   id       74776 non-null  object\n",
      "dtypes: object(4)\n",
      "memory usage: 2.9+ MB\n"
     ]
    }
   ],
   "source": [
    "data.info()"
   ]
  },
  {
   "cell_type": "code",
   "execution_count": 39,
   "id": "21ab3908-fbd7-44c3-9e03-14ae1db6ada8",
   "metadata": {},
   "outputs": [],
   "source": [
    "def remove_punc_and_special_chars(text): \n",
    "    normalized_text = re.sub('[\\!\\@\\#\\$\\%\\^\\«\\»\\&\\*\\(\\)\\…\\[\\]\\{\\}\\;\\“\\”\\›\\’\\‘\\\"\\'\\:\\,\\.\\‹\\/\\<\\>\\?\\\\\\\\|\\`\\´\\~\\-\\=\\+\\፡\\፤\\;\\፦\\፥\\፧\\፨\\፠]', '',text) \n",
    "    return normalized_text\n"
   ]
  },
  {
   "cell_type": "code",
   "execution_count": 40,
   "id": "341ec465-6bf8-4ea3-95c2-c77f4d5c4de6",
   "metadata": {},
   "outputs": [],
   "source": [
    "from etnltk.lang.am import remove_non_ethiopic, remove_ethiopic_digits\n",
    "from etnltk.lang.am import normalize\n",
    "from etnltk.tokenize.am import sent_tokenize\n"
   ]
  },
  {
   "cell_type": "code",
   "execution_count": 41,
   "id": "68704654-8609-4ede-a94e-61a0d12103f3",
   "metadata": {},
   "outputs": [],
   "source": [
    "def preprocessing(text):\n",
    "    text = normalize(text)\n",
    "    text = remove_ethiopic_digits(text)\n",
    "    text = remove_non_ethiopic(text)\n",
    "    text = remove_punctuations(text)\n",
    "    return text\n",
    "    "
   ]
  },
  {
   "cell_type": "code",
   "execution_count": 42,
   "id": "c347f934-08aa-4cdc-b959-99f287473164",
   "metadata": {},
   "outputs": [],
   "source": [
    "df_clean = [] \n",
    "titles = [] \n",
    "i = 0\n",
    "\n",
    "for index, row in data.iterrows():\n",
    "  row['title']   = preprocessing(str(row['title']))\n",
    "  row['content'] = preprocessing(str(row['content']))\n",
    "    \n",
    "  if str(row['title']) != \"nan\" and str(row['title']) != \"\":\n",
    "      \n",
    "    row['title'] = row['title'].replace(\"\\n\" , \" , \")\n",
    "    \n",
    "    if row['title'] not in titles:\n",
    "      titles.append(row['title'])\n",
    "      r={}\n",
    "      r[\"title\"] = row['title']\n",
    "      r[\"content\"] = row['content']\n",
    "      df_clean.append(r)"
   ]
  },
  {
   "cell_type": "code",
   "execution_count": 43,
   "id": "53d58c28-4423-42d5-b4b7-370754c052ed",
   "metadata": {},
   "outputs": [
    {
     "name": "stdout",
     "output_type": "stream",
     "text": [
      "<class 'pandas.core.frame.DataFrame'>\n",
      "RangeIndex: 54174 entries, 0 to 54173\n",
      "Data columns (total 2 columns):\n",
      " #   Column   Non-Null Count  Dtype \n",
      "---  ------   --------------  ----- \n",
      " 0   title    54174 non-null  object\n",
      " 1   content  54174 non-null  object\n",
      "dtypes: object(2)\n",
      "memory usage: 846.6+ KB\n"
     ]
    }
   ],
   "source": [
    "cleanised_data = pd.DataFrame(df_clean)\n",
    "cleanised_data.info()"
   ]
  },
  {
   "cell_type": "code",
   "execution_count": 77,
   "id": "e5893825-febd-4d12-9172-4132fbb7f9dd",
   "metadata": {},
   "outputs": [
    {
     "data": {
      "text/plain": [
       "''"
      ]
     },
     "execution_count": 77,
     "metadata": {},
     "output_type": "execute_result"
    }
   ],
   "source": [
    "cleanised_data.loc[53001, \"content\"]"
   ]
  },
  {
   "cell_type": "code",
   "execution_count": 79,
   "id": "8622de90-3262-40aa-a858-a3d68d34c840",
   "metadata": {},
   "outputs": [],
   "source": [
    "cleanised_data.dropna(subset=['content'], inplace=True)"
   ]
  },
  {
   "cell_type": "code",
   "execution_count": 83,
   "id": "0aaabb0f-d1ae-4556-9aec-ed4d0aca5444",
   "metadata": {},
   "outputs": [],
   "source": [
    "min_content_length = 10\n",
    "cleaned_data = cleanised_data[cleanised_data['content'].str.len() >= min_content_length]\n",
    "cleaned_data.reset_index(drop=True, inplace=True)"
   ]
  },
  {
   "cell_type": "code",
   "execution_count": 84,
   "id": "a38f94ad-a726-4930-a38e-533ce5eeecda",
   "metadata": {},
   "outputs": [
    {
     "name": "stdout",
     "output_type": "stream",
     "text": [
      "<class 'pandas.core.frame.DataFrame'>\n",
      "RangeIndex: 53787 entries, 0 to 53786\n",
      "Data columns (total 2 columns):\n",
      " #   Column   Non-Null Count  Dtype \n",
      "---  ------   --------------  ----- \n",
      " 0   title    53787 non-null  object\n",
      " 1   content  53787 non-null  object\n",
      "dtypes: object(2)\n",
      "memory usage: 840.5+ KB\n"
     ]
    }
   ],
   "source": [
    "cleaned_data.info()"
   ]
  },
  {
   "cell_type": "code",
   "execution_count": 86,
   "id": "039788d5-87b2-4621-8710-5351e4bf94d9",
   "metadata": {},
   "outputs": [
    {
     "data": {
      "text/plain": [
       "' አረና የተሳካ ጉባኤ ማካሄዱ እየተነገረ ነው። አረና ብዙ ዋጋ የተከፈለበት ፓርቲ ነው። እናም በዚህ ሰአት ተስፋ የሚሰጥ ለውጥ በማሳየቱ የተሰማኝ ደስታ ወደር የለውም። የደስታዬ ምክንያትም የመሰረትኩት ብዙ የለፋሁለት ፓርቲ ከመሆኑም በላይ አረና በኢትዮጵያ ፖለቲካ ላይ የራሱ አስተዋፅኦ ይኖረዋል ብዬ ስለማምን ነው። የለውጥ ሀይሉ በማቀናጀትና ማጠናከር ረገድ አዎንታዊ ሚና ሊኖረው ይችላል። ከዚህ ጉባኤ ውጤት መረዳት እንደቻልኩት የአዲሱ ትውልድ አመራር ወደፊት አምጥተዋል። ነባሩ አመራርም በስራ አስፈፃሚና በማከእላዊ ኮሚቴ ውስጥ ተካተዋል። ይሄ ጥሩ የአመራር ውህደት የሚፈጥር ነው። ይሄ ለውጥ በተለይ ለነባሮቹ የአረና አመራሮች ለአቶ ገቡሩ አስራት ለወይዘሮ አረጋሽ አዳነ ለአቶ አውአሎም ወልዱ እና አቶ ብርሀኑ በርሀ ልዩ ኩራት የሚሰጥ ነው የሚመስለኝ። በየጊዜው በፓርቲው ውስጥ ይታዩ የነበሩ ችግሮች ምክንያት ተስፋ ሳይቆርጡ በትእግስት እስካሁን ቆይተው የልፋታቸውን ውጤት ማየት ችለዋል። የሚያዩበት ሰአት ላይ ደርሰዋል። አቶ ብርሀኑ በርሀ እንደማነኛውም ሰው የራሳቸው የሆነ ድክመቶች ቢኖራቸውም በአረና ምስረታ ላይ የነበራቸው የማይተካ ሚና እና የደከሙት ድካም ማስታወስ ያስፈልጋል። ማናችንም ብንሆን ከስህተት ንፁህ አይደለንም አቶ ብርሀኑ በርሀ ከሊቀመንበርነት ቢወርዱም አሁን ባሉበት የማእከላዊ ኮሚቴ ቦታ ላይ ሆነው ብዙ አስተዋፅኦ ማድረግ የሚችሉ ናቸው። የገብሩ አስራት መንገድ ነው መከተል ያለባቸው ልክ እንደ አቶ ገብሩ በአዎንታዊ መንገድ ተፅእኖ መፍጠር ይችላሉ በፓርቲ ውስጥ አስተዋፅኦ ለማድረግ መሪ መሆን የግድ የሚያስፈልግ አይደለም። ዝቅ ብሎ በትህትና ማገልገል ታላቅ ፀጋ ነው። አሁን አረና ሁለት ነባር ሊቃነ መነቃብርት ይኖሩታል ማለት ነው። በፊት በፓርቲው ውስጥ የነበሩ ብዙ የደከሙና በሂደት በልዩነት የተለዩት እንደነ አቶ አስገደ ገብረስላሴ ያሉትም ቢሆን ለውጡ የሚያስደስታቸው ነው። ሲመኙት የነበረ ሲታገሉለት የነበረ ጉዳይ ነውና። በእርግጥ ፓርቲው እንዲህ ሲጠናከር ለውጥ የሚፈልግ ሁሉ ደስ የሚያሰኝ ነው የሚሆነው። በአረና ውስጥ ከመጀመሪያው ጀምሮ ችግር የነበረው የአባታዊነት አስተሳሰብ ያከተመ ይመስላል። ያለምንም ጫጫታ ራሱን ገምግሞ በሂደት የአመራር ድክመት ያሳዩትና መሰረታዊ ችግር የነበረባቸው በሌላ አዲስ አመራር መተካት ተችለዋል። እንደ አብርሀ ደስታ ጎቶኦም ፀጋይ ኪዳነ አመነ አንዶም ገብረ ስላሴ ተክለዝጊ ህድሮም የመሳሰሉ ብዙ ወጣቶች ወደፊት መጥተዋል። የአሁን ፓርቲው ከነበረበት ወደፊት የማራመዱ ጉዳይ በአዲሱ ትውልድ አመራር ጫንቃ ላይ ወድቀዋል። የሀገራችን ፖለቲካ እጅግ አስቸጋሪ ቢሆንም የተሰጣቸውን ሀላፊነት በደንብ ይወጡታል ብዬ ተስፋ አደርጋለሁ። ሌላው እጅግ ደስ ያለኝ ጉዳይ ዶክተር ማርቆስ ገሰሰ የመሰለ የመርህ ሰው ከደጋፊነት ወደ አመራር መምጣቱ ነው። ዶክተር ማርቆስ ገሰሰ ማለት ለአረና ብዙ ነገር ነው ወጣቶችን የሚመክር የሚያበረታታ ለፓርቲው በተቻለው ሁሉ ድጋፍ የሚያደርግ ሌላው ቀርቶ የራሱ ሆስፒታል ህንፃ ላይ ለፓርቲው ዋና ፅህፈት ቤት የሚሆን በነፃ የሰጠ ሰው ነው። ሀወሀትም አረናም ለዚህ አቋሙና እምነቱ ብዙ ዋጋ የከፈለ አሁንም እየከፈለ ያለ ጀግና ነው። ብዙዎቹ ባለሀብቶች በምንም ነገር መጎዳት ስለማይፈልጉ ተቃዋሚዎችን ለማገዝ ፍላጎት የላቸውም ዶክተር ማርቆስ ግን ከእነዚህ በጣም የተለየ ነው ይህም ነው ክብር እንድትሰጠው የሚያደርግህ። እንግዲህ አረና በውህደት መልክም ይሁን በሌላ መንገድ ወሳኝ ሀገራዊ ሀይል የሚሆንበት ጊዜ ወደፊት እየጠበቀው እንደሆነ መጠቆም እፈልጋለሁ። በሀገር ጉዳይ ላይ ተስፋ መቁረጥ አይገባምና ወደፊት ገፍቶ ያሉትን አማራጮች ሁሉ መሞከሩ የተሻለ ነገር ይሆናል። አዲስ ለተመረጡትም ለነባር አመራሮቹም መልካም የትግል ዘመን ይሁንላችሁ ለማለት እፈልጋለሁ።  አረየ የትግርኛ ቃል ሲሆን ተስተካከለ ማለት ነው።'"
      ]
     },
     "execution_count": 86,
     "metadata": {},
     "output_type": "execute_result"
    }
   ],
   "source": [
    "cleaned_data.loc[53003, \"content\"]"
   ]
  },
  {
   "cell_type": "code",
   "execution_count": 87,
   "id": "c2e26f82-1b64-42eb-b1bf-5c8e61c46215",
   "metadata": {},
   "outputs": [],
   "source": [
    "cleaned_data.to_csv(\"cleaned_data.csv\", mode='w',index = False)"
   ]
  },
  {
   "cell_type": "code",
   "execution_count": null,
   "id": "27c4ef6e-9068-4129-b473-90731740fd91",
   "metadata": {},
   "outputs": [],
   "source": []
  }
 ],
 "metadata": {
  "kernelspec": {
   "display_name": "Python 3 (ipykernel)",
   "language": "python",
   "name": "python3"
  },
  "language_info": {
   "codemirror_mode": {
    "name": "ipython",
    "version": 3
   },
   "file_extension": ".py",
   "mimetype": "text/x-python",
   "name": "python",
   "nbconvert_exporter": "python",
   "pygments_lexer": "ipython3",
   "version": "3.10.12"
  }
 },
 "nbformat": 4,
 "nbformat_minor": 5
}
